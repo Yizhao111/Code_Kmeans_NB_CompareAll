{
 "cells": [
  {
   "cell_type": "code",
   "execution_count": 1,
   "id": "f7ba1d8f",
   "metadata": {},
   "outputs": [],
   "source": [
    "#import libraries:\n",
    "# from fredapi import Fred\n",
    "# import pandas as pd\n",
    "import pandas as pd\n",
    "from datetime import datetime\n",
    "import numpy as np\n",
    "\n",
    "from sklearn.model_selection import train_test_split\n",
    "from sklearn.preprocessing import StandardScaler\n",
    "from sklearn.decomposition import PCA\n",
    "from sklearn.cluster import KMeans\n",
    "from sklearn.metrics import silhouette_score\n",
    "\n",
    "from matplotlib.pyplot import figure\n",
    "import matplotlib.pyplot as plt\n",
    "from matplotlib.collections import LineCollection\n",
    "from matplotlib.colors import ListedColormap, BoundaryNorm\n",
    "from matplotlib.ticker import FormatStrFormatter"
   ]
  },
  {
   "cell_type": "code",
   "execution_count": 2,
   "id": "a7e6d116",
   "metadata": {},
   "outputs": [
    {
     "name": "stdout",
     "output_type": "stream",
     "text": [
      "Date     2017-01-01\n",
      "Value      0.048127\n",
      "Name: 18, dtype: object\n"
     ]
    }
   ],
   "source": [
    "#read all the economic data available on fred library:\n",
    "#if you have problem figuring the fred data, I can provide you with a code which reades the data as soon as you request.\n",
    "datasets1 = pd.read_csv('C:/Users/86158/Desktop/BeikaData2/FRED-BASE.csv')\n",
    "datasets2 = pd.read_csv('C:/Users/86158/Desktop/BeikaData2/FRED-CIVPART.csv')\n",
    "datasets3 = pd.read_csv('C:/Users/86158/Desktop/BeikaData2/FRED-CP.csv')\n",
    "datasets4 = pd.read_csv('C:/Users/86158/Desktop/BeikaData2/FRED-CPIAUCSL.csv')\n",
    "datasets5 = pd.read_csv('C:/Users/86158/Desktop/BeikaData2/FRED-CPILFESL.csv')\n",
    "datasets6 = pd.read_csv('C:/Users/86158/Desktop/BeikaData2/FRED-DCOILWTICO.csv')\n",
    "datasets7 = pd.read_csv('C:/Users/86158/Desktop/BeikaData2/FRED-DFF.csv')\n",
    "datasets8 = pd.read_csv('C:/Users/86158/Desktop/BeikaData2/FRED-DGS5.csv')\n",
    "datasets9 = pd.read_csv('C:/Users/86158/Desktop/BeikaData2/FRED-DGS10.csv')\n",
    "datasets10 = pd.read_csv('C:/Users/86158/Desktop/BeikaData2/FRED-DGS30.csv')\n",
    "datasets11 = pd.read_csv('C:/Users/86158/Desktop/BeikaData2/FRED-DPRIME.csv')\n",
    "datasets12 = pd.read_csv('C:/Users/86158/Desktop/BeikaData2/FRED-DSPI.csv')\n",
    "datasets13 = pd.read_csv('C:/Users/86158/Desktop/BeikaData2/FRED-DSPIC96.csv')\n",
    "datasets14 = pd.read_csv('C:/Users/86158/Desktop/BeikaData2/FRED-DTB3.csv')\n",
    "datasets15 = pd.read_csv('C:/Users/86158/Desktop/BeikaData2/FRED-DTWEXB.csv')\n",
    "datasets16 = pd.read_csv('C:/Users/86158/Desktop/BeikaData2/FRED-DTWEXM.csv')\n",
    "datasets17 = pd.read_csv('C:/Users/86158/Desktop/BeikaData2/FRED-EMRATIO.csv')\n",
    "datasets18 = pd.read_csv('C:/Users/86158/Desktop/BeikaData2/FRED-EXCSRESNW.csv')\n",
    "datasets19 = pd.read_csv('C:/Users/86158/Desktop/BeikaData2/FRED-GDP.csv')\n",
    "datasets20 = pd.read_csv('C:/Users/86158/Desktop/BeikaData2/FRED-GDPC1.csv')\n",
    "datasets21 = pd.read_csv('C:/Users/86158/Desktop/BeikaData2/FRED-GDPDEF.csv')\n",
    "datasets22 = pd.read_csv('C:/Users/86158/Desktop/BeikaData2/FRED-GDPPOT.csv')\n",
    "datasets23 = pd.read_csv('C:/Users/86158/Desktop/BeikaData2/FRED-GFDEBTN.csv')\n",
    "datasets24 = pd.read_csv('C:/Users/86158/Desktop/BeikaData2/FRED-GFDEGDQ188S.csv')\n",
    "datasets25 = pd.read_csv('C:/Users/86158/Desktop/BeikaData2/FRED-IC4WSA.csv')\n",
    "datasets26 = pd.read_csv('C:/Users/86158/Desktop/BeikaData2/FRED-ICSA.csv')\n",
    "datasets27 = pd.read_csv('C:/Users/86158/Desktop/BeikaData2/FRED-INDPRO.csv')\n",
    "datasets28 = pd.read_csv('C:/Users/86158/Desktop/BeikaData2/FRED-M1.csv')\n",
    "datasets29 = pd.read_csv('C:/Users/86158/Desktop/BeikaData2/FRED-M1V.csv')\n",
    "datasets30 = pd.read_csv('C:/Users/86158/Desktop/BeikaData2/FRED-M2.csv')\n",
    "datasets31 = pd.read_csv('C:/Users/86158/Desktop/BeikaData2/FRED-M2V.csv')\n",
    "datasets32 = pd.read_csv('C:/Users/86158/Desktop/BeikaData2/FRED-MANEMP.csv')\n",
    "datasets33 = pd.read_csv('C:/Users/86158/Desktop/BeikaData2/FRED-MEHOINUSA672N.csv')\n",
    "datasets34 = pd.read_csv('C:/Users/86158/Desktop/BeikaData2/FRED-NROU.csv')\n",
    "datasets35 = pd.read_csv('C:/Users/86158/Desktop/BeikaData2/FRED-NROUST.csv')\n",
    "datasets36 = pd.read_csv('C:/Users/86158/Desktop/BeikaData2/FRED-PAYEMS.csv')\n",
    "datasets37 = pd.read_csv('C:/Users/86158/Desktop/BeikaData2/FRED-PCE.csv')\n",
    "datasets38 = pd.read_csv('C:/Users/86158/Desktop/BeikaData2/FRED-PCEDG.csv')\n",
    "datasets39 = pd.read_csv('C:/Users/86158/Desktop/BeikaData2/FRED-PSAVERT.csv')\n",
    "datasets40 = pd.read_csv('C:/Users/86158/Desktop/BeikaData2/FRED-RRSFS.csv')\n",
    "datasets41 = pd.read_csv('C:/Users/86158/Desktop/BeikaData2/FRED-STLFSI.csv')\n",
    "datasets42 = pd.read_csv('C:/Users/86158/Desktop/BeikaData2/FRED-T5YIE.csv')\n",
    "datasets43 = pd.read_csv('C:/Users/86158/Desktop/BeikaData2/FRED-T5YIFR.csv')\n",
    "datasets44 = pd.read_csv('C:/Users/86158/Desktop/BeikaData2/FRED-T10YIE.csv')\n",
    "datasets45 = pd.read_csv('C:/Users/86158/Desktop/BeikaData2/FRED-TCU.csv')\n",
    "datasets46 = pd.read_csv('C:/Users/86158/Desktop/BeikaData2/FRED-TEDRATE.csv')\n",
    "datasets47 = pd.read_csv('C:/Users/86158/Desktop/BeikaData2/FRED-T10YIE.csv')\n",
    "datasets48 = pd.read_csv('C:/Users/86158/Desktop/BeikaData2/FRED-TOTCI.csv')\n",
    "datasets49 = pd.read_csv('C:/Users/86158/Desktop/BeikaData2/FRED-T10YIE.csv')\n",
    "datasets50 = pd.read_csv('C:/Users/86158/Desktop/BeikaData2/FRED-UNEMPLOY.csv')\n",
    "datasets51 = pd.read_csv('C:/Users/86158/Desktop/BeikaData2/FRED-UNRATE.csv')\n",
    "datasets52 = pd.read_csv('C:/Users/86158/Desktop/BeikaData2/FRED-USSLIND.csv')\n",
    "#dataset = pd.concat([datasets1,datasets2,datasets3,datasets4,datasets5,datasets6,datasets7,datasets8,datasets9,datasets10,datasets11,datasets12],axis=0)\n",
    "print(datasets3.iloc[18,:])\n",
    "\n"
   ]
  },
  {
   "cell_type": "code",
   "execution_count": 3,
   "id": "252d401e",
   "metadata": {},
   "outputs": [
    {
     "name": "stdout",
     "output_type": "stream",
     "text": [
      "           Date     Value\n",
      "0    2022-01-31  0.006451\n",
      "1    2021-12-31  0.005752\n",
      "2    2021-11-30  0.006992\n",
      "3    2021-10-31  0.008665\n",
      "4    2021-09-30  0.004109\n",
      "..          ...       ...\n",
      "895  1947-06-30  0.005923\n",
      "896  1947-05-31 -0.002273\n",
      "897  1947-04-30  0.000000\n",
      "898  1947-03-31  0.017576\n",
      "899  1947-02-28  0.006518\n",
      "\n",
      "[900 rows x 2 columns]\n"
     ]
    }
   ],
   "source": [
    "#preprocess the data using linear approximation techniques:\n",
    "itemList = []\n",
    "itemList.append(datasets1)\n",
    "itemList.append(datasets2)\n",
    "itemList.append(datasets3)\n",
    "itemList.append(datasets4)\n",
    "itemList.append(datasets5)\n",
    "itemList.append(datasets6)\n",
    "itemList.append(datasets7)\n",
    "itemList.append(datasets8)\n",
    "itemList.append(datasets9)\n",
    "itemList.append(datasets10)\n",
    "itemList.append(datasets11)\n",
    "itemList.append(datasets12)\n",
    "itemList.append(datasets13)\n",
    "itemList.append(datasets14)\n",
    "itemList.append(datasets15)\n",
    "itemList.append(datasets16)\n",
    "itemList.append(datasets17)\n",
    "itemList.append(datasets18)\n",
    "itemList.append(datasets19)\n",
    "itemList.append(datasets20)\n",
    "itemList.append(datasets21)\n",
    "itemList.append(datasets22)\n",
    "itemList.append(datasets23)\n",
    "itemList.append(datasets24)\n",
    "itemList.append(datasets25)\n",
    "itemList.append(datasets26)\n",
    "itemList.append(datasets27)\n",
    "itemList.append(datasets28)\n",
    "itemList.append(datasets29)\n",
    "itemList.append(datasets30)\n",
    "itemList.append(datasets31)\n",
    "itemList.append(datasets32)\n",
    "itemList.append(datasets33)\n",
    "itemList.append(datasets34)\n",
    "itemList.append(datasets35)\n",
    "itemList.append(datasets36)\n",
    "itemList.append(datasets37)\n",
    "itemList.append(datasets38)\n",
    "itemList.append(datasets39)\n",
    "itemList.append(datasets40)\n",
    "itemList.append(datasets41)\n",
    "itemList.append(datasets42)\n",
    "itemList.append(datasets43)\n",
    "itemList.append(datasets44)\n",
    "itemList.append(datasets45)\n",
    "itemList.append(datasets46)\n",
    "itemList.append(datasets47)\n",
    "itemList.append(datasets48)\n",
    "itemList.append(datasets49)\n",
    "itemList.append(datasets50)\n",
    "itemList.append(datasets51)\n",
    "itemList.append(datasets52)\n",
    "print(itemList[3])\n",
    "\n",
    "for data in itemList:\n",
    "    data.dropna()\n"
   ]
  },
  {
   "cell_type": "code",
   "execution_count": 4,
   "id": "10ebae2a",
   "metadata": {},
   "outputs": [],
   "source": [
    "#Preprocessing, use appropriate methods to fill the missing values in the data:\n",
    "\n",
    "#resample at the beginning of each day -> daily data\n",
    "\n",
    "def interpolateAsMonthly(data):\n",
    "    \n",
    "    new_monthly_data = data.set_index('Date').resample('D').asfreq()\n",
    "    new_monthly_data = new_monthly_data.fillna(new_monthly_data.interpolate())\n",
    "    return new_monthly_data\n",
    "\n",
    "for i in range(52):\n",
    "    x_ticks = (itemList[i])['Date']\n",
    "    try:\n",
    "        xs = [datetime.strptime(str(d), '%Y-%m-%d') for d in x_ticks]  \n",
    "    except(ValueError):\n",
    "        xs = [datetime.strptime(str(d), '%Y/%m/%d') for d in x_ticks]\n",
    "    (itemList[i])['Date'] = pd.to_datetime((itemList[i])['Date'])\n",
    "    itemList[i] = interpolateAsMonthly(itemList[i])\n"
   ]
  },
  {
   "cell_type": "code",
   "execution_count": 5,
   "id": "7257e292",
   "metadata": {},
   "outputs": [
    {
     "name": "stderr",
     "output_type": "stream",
     "text": [
      "C:\\Users\\86158\\AppData\\Local\\Temp\\ipykernel_63900\\3438402624.py:5: FutureWarning: Passing 'suffixes' which cause duplicate columns {'Value_x'} in the result is deprecated and will raise a MergeError in a future version.\n",
      "  new_all = pd.merge(new_all, i, on = 'Date')\n",
      "C:\\Users\\86158\\AppData\\Local\\Temp\\ipykernel_63900\\3438402624.py:5: FutureWarning: Passing 'suffixes' which cause duplicate columns {'Value_x'} in the result is deprecated and will raise a MergeError in a future version.\n",
      "  new_all = pd.merge(new_all, i, on = 'Date')\n",
      "C:\\Users\\86158\\AppData\\Local\\Temp\\ipykernel_63900\\3438402624.py:5: FutureWarning: Passing 'suffixes' which cause duplicate columns {'Value_x'} in the result is deprecated and will raise a MergeError in a future version.\n",
      "  new_all = pd.merge(new_all, i, on = 'Date')\n",
      "C:\\Users\\86158\\AppData\\Local\\Temp\\ipykernel_63900\\3438402624.py:5: FutureWarning: Passing 'suffixes' which cause duplicate columns {'Value_x'} in the result is deprecated and will raise a MergeError in a future version.\n",
      "  new_all = pd.merge(new_all, i, on = 'Date')\n",
      "C:\\Users\\86158\\AppData\\Local\\Temp\\ipykernel_63900\\3438402624.py:5: FutureWarning: Passing 'suffixes' which cause duplicate columns {'Value_x'} in the result is deprecated and will raise a MergeError in a future version.\n",
      "  new_all = pd.merge(new_all, i, on = 'Date')\n",
      "C:\\Users\\86158\\AppData\\Local\\Temp\\ipykernel_63900\\3438402624.py:5: FutureWarning: Passing 'suffixes' which cause duplicate columns {'Value_x'} in the result is deprecated and will raise a MergeError in a future version.\n",
      "  new_all = pd.merge(new_all, i, on = 'Date')\n",
      "C:\\Users\\86158\\AppData\\Local\\Temp\\ipykernel_63900\\3438402624.py:5: FutureWarning: Passing 'suffixes' which cause duplicate columns {'Value_x'} in the result is deprecated and will raise a MergeError in a future version.\n",
      "  new_all = pd.merge(new_all, i, on = 'Date')\n",
      "C:\\Users\\86158\\AppData\\Local\\Temp\\ipykernel_63900\\3438402624.py:5: FutureWarning: Passing 'suffixes' which cause duplicate columns {'Value_x'} in the result is deprecated and will raise a MergeError in a future version.\n",
      "  new_all = pd.merge(new_all, i, on = 'Date')\n",
      "C:\\Users\\86158\\AppData\\Local\\Temp\\ipykernel_63900\\3438402624.py:5: FutureWarning: Passing 'suffixes' which cause duplicate columns {'Value_x'} in the result is deprecated and will raise a MergeError in a future version.\n",
      "  new_all = pd.merge(new_all, i, on = 'Date')\n",
      "C:\\Users\\86158\\AppData\\Local\\Temp\\ipykernel_63900\\3438402624.py:5: FutureWarning: Passing 'suffixes' which cause duplicate columns {'Value_x'} in the result is deprecated and will raise a MergeError in a future version.\n",
      "  new_all = pd.merge(new_all, i, on = 'Date')\n",
      "C:\\Users\\86158\\AppData\\Local\\Temp\\ipykernel_63900\\3438402624.py:5: FutureWarning: Passing 'suffixes' which cause duplicate columns {'Value_x'} in the result is deprecated and will raise a MergeError in a future version.\n",
      "  new_all = pd.merge(new_all, i, on = 'Date')\n",
      "C:\\Users\\86158\\AppData\\Local\\Temp\\ipykernel_63900\\3438402624.py:5: FutureWarning: Passing 'suffixes' which cause duplicate columns {'Value_x'} in the result is deprecated and will raise a MergeError in a future version.\n",
      "  new_all = pd.merge(new_all, i, on = 'Date')\n",
      "C:\\Users\\86158\\AppData\\Local\\Temp\\ipykernel_63900\\3438402624.py:5: FutureWarning: Passing 'suffixes' which cause duplicate columns {'Value_x'} in the result is deprecated and will raise a MergeError in a future version.\n",
      "  new_all = pd.merge(new_all, i, on = 'Date')\n",
      "C:\\Users\\86158\\AppData\\Local\\Temp\\ipykernel_63900\\3438402624.py:5: FutureWarning: Passing 'suffixes' which cause duplicate columns {'Value_x'} in the result is deprecated and will raise a MergeError in a future version.\n",
      "  new_all = pd.merge(new_all, i, on = 'Date')\n",
      "C:\\Users\\86158\\AppData\\Local\\Temp\\ipykernel_63900\\3438402624.py:5: FutureWarning: Passing 'suffixes' which cause duplicate columns {'Value_x'} in the result is deprecated and will raise a MergeError in a future version.\n",
      "  new_all = pd.merge(new_all, i, on = 'Date')\n",
      "C:\\Users\\86158\\AppData\\Local\\Temp\\ipykernel_63900\\3438402624.py:5: FutureWarning: Passing 'suffixes' which cause duplicate columns {'Value_x'} in the result is deprecated and will raise a MergeError in a future version.\n",
      "  new_all = pd.merge(new_all, i, on = 'Date')\n",
      "C:\\Users\\86158\\AppData\\Local\\Temp\\ipykernel_63900\\3438402624.py:5: FutureWarning: Passing 'suffixes' which cause duplicate columns {'Value_x'} in the result is deprecated and will raise a MergeError in a future version.\n",
      "  new_all = pd.merge(new_all, i, on = 'Date')\n",
      "C:\\Users\\86158\\AppData\\Local\\Temp\\ipykernel_63900\\3438402624.py:5: FutureWarning: Passing 'suffixes' which cause duplicate columns {'Value_x'} in the result is deprecated and will raise a MergeError in a future version.\n",
      "  new_all = pd.merge(new_all, i, on = 'Date')\n",
      "C:\\Users\\86158\\AppData\\Local\\Temp\\ipykernel_63900\\3438402624.py:5: FutureWarning: Passing 'suffixes' which cause duplicate columns {'Value_x'} in the result is deprecated and will raise a MergeError in a future version.\n",
      "  new_all = pd.merge(new_all, i, on = 'Date')\n",
      "C:\\Users\\86158\\AppData\\Local\\Temp\\ipykernel_63900\\3438402624.py:5: FutureWarning: Passing 'suffixes' which cause duplicate columns {'Value_x'} in the result is deprecated and will raise a MergeError in a future version.\n",
      "  new_all = pd.merge(new_all, i, on = 'Date')\n",
      "C:\\Users\\86158\\AppData\\Local\\Temp\\ipykernel_63900\\3438402624.py:5: FutureWarning: Passing 'suffixes' which cause duplicate columns {'Value_x'} in the result is deprecated and will raise a MergeError in a future version.\n",
      "  new_all = pd.merge(new_all, i, on = 'Date')\n",
      "C:\\Users\\86158\\AppData\\Local\\Temp\\ipykernel_63900\\3438402624.py:5: FutureWarning: Passing 'suffixes' which cause duplicate columns {'Value_x'} in the result is deprecated and will raise a MergeError in a future version.\n",
      "  new_all = pd.merge(new_all, i, on = 'Date')\n",
      "C:\\Users\\86158\\AppData\\Local\\Temp\\ipykernel_63900\\3438402624.py:5: FutureWarning: Passing 'suffixes' which cause duplicate columns {'Value_x'} in the result is deprecated and will raise a MergeError in a future version.\n",
      "  new_all = pd.merge(new_all, i, on = 'Date')\n",
      "C:\\Users\\86158\\AppData\\Local\\Temp\\ipykernel_63900\\3438402624.py:5: FutureWarning: Passing 'suffixes' which cause duplicate columns {'Value_x'} in the result is deprecated and will raise a MergeError in a future version.\n",
      "  new_all = pd.merge(new_all, i, on = 'Date')\n",
      "C:\\Users\\86158\\AppData\\Local\\Temp\\ipykernel_63900\\3438402624.py:5: FutureWarning: Passing 'suffixes' which cause duplicate columns {'Value_x'} in the result is deprecated and will raise a MergeError in a future version.\n",
      "  new_all = pd.merge(new_all, i, on = 'Date')\n"
     ]
    }
   ],
   "source": [
    "#group together\n",
    "\n",
    "new_all = itemList[0]\n",
    "for i in itemList[1:]:\n",
    "    new_all = pd.merge(new_all, i, on = 'Date')\n",
    "#new_all.to_csv('C:/Users/86158/Desktop/BeikaData2/all.csv')"
   ]
  },
  {
   "cell_type": "code",
   "execution_count": 6,
   "id": "1a68adeb",
   "metadata": {},
   "outputs": [
    {
     "name": "stdout",
     "output_type": "stream",
     "text": [
      "       Value_x   Value_y  Value_x.1  Value_y.1  Value_x.2  Value_y.2  \\\n",
      "0    -0.001674  0.001411  -0.004783   0.001919   0.001092   0.040350   \n",
      "1    -0.002121  0.001362  -0.004699   0.002007   0.001109   0.017179   \n",
      "2    -0.002567  0.001314  -0.004615   0.002096   0.001126  -0.005993   \n",
      "3    -0.003013  0.001265  -0.004532   0.002185   0.001143  -0.029164   \n",
      "4    -0.003459  0.001216  -0.004448   0.002273   0.001160  -0.033757   \n",
      "...        ...       ...        ...        ...        ...        ...   \n",
      "6189  0.014809  0.001581  -0.086116   0.001862   0.001393   0.011031   \n",
      "6190  0.015943  0.001581  -0.087562   0.001860   0.001373   0.006347   \n",
      "6191  0.017076  0.001581  -0.089007   0.001859   0.001353   0.001664   \n",
      "6192  0.018209  0.001581  -0.090453   0.001858   0.001334   0.011128   \n",
      "6193  0.019342  0.001581  -0.091899   0.001857   0.001314   0.000821   \n",
      "\n",
      "      Value_x.3  Value_y.3  Value_x.4  Value_y.4  ...  Value_x.21  Value_y.21  \\\n",
      "0     -0.138462  -0.006557  -0.004914   0.000000  ...   -0.010101   -0.012195   \n",
      "1      0.000000   0.003329   0.000016   0.001287  ...   -0.008435   -0.006072   \n",
      "2      0.000000   0.013216   0.004946   0.002574  ...   -0.006768    0.000050   \n",
      "3      0.089286   0.023102   0.009877   0.003861  ...   -0.005102    0.006173   \n",
      "4     -0.016393  -0.019355  -0.012225  -0.003846  ...    0.005128   -0.006135   \n",
      "...         ...        ...        ...        ...  ...         ...         ...   \n",
      "6189   0.000000  -0.014927  -0.015250  -0.011342  ...   -0.007161   -0.001870   \n",
      "6190   0.000000   0.010609   0.011606   0.003179  ...    0.007655    0.007889   \n",
      "6191   0.006452   0.036145   0.038462   0.017699  ...    0.022472    0.017647   \n",
      "6192  -0.006410  -0.005814   0.000000   0.004348  ...    0.016484    0.011561   \n",
      "6193   0.000000   0.017544   0.015873   0.017316  ...   -0.005405    0.005714   \n",
      "\n",
      "      Value_x.22  Value_y.22  Value_x.23  Value_y.23  Value_x.24  Value_y.24  \\\n",
      "0       0.008090    0.055556   -0.012195   -0.004537   -0.012195    0.011377   \n",
      "1       0.007861    0.054581   -0.006072   -0.003397   -0.006072    0.010475   \n",
      "2       0.007633    0.053606    0.000050   -0.002258    0.000050    0.009573   \n",
      "3       0.007404    0.052632    0.006173   -0.001119    0.006173    0.008670   \n",
      "4       0.007176    0.100000   -0.006135    0.000020   -0.006135    0.007768   \n",
      "...          ...         ...         ...         ...         ...         ...   \n",
      "6189   -0.004516    0.000000   -0.001870    0.000398   -0.001870   -0.009840   \n",
      "6190   -0.004563    0.000000    0.007889    0.000240    0.007889   -0.009946   \n",
      "6191   -0.004609    0.000000    0.017647    0.000082    0.017647   -0.010051   \n",
      "6192   -0.004655    0.027778    0.011561   -0.000075    0.011561   -0.010157   \n",
      "6193   -0.004702    0.027027    0.005714   -0.000233    0.005714   -0.010263   \n",
      "\n",
      "      Value_x.25  Value_y.25  \n",
      "0      -0.030070    0.338753  \n",
      "1      -0.028439    0.318735  \n",
      "2      -0.026808    0.298717  \n",
      "3      -0.025176    0.278700  \n",
      "4      -0.023545    0.258682  \n",
      "...          ...         ...  \n",
      "6189   -0.011649    0.067577  \n",
      "6190   -0.012545    0.067201  \n",
      "6191   -0.013441    0.066825  \n",
      "6192   -0.014337    0.066449  \n",
      "6193   -0.015233    0.066073  \n",
      "\n",
      "[6194 rows x 52 columns]\n"
     ]
    }
   ],
   "source": [
    "#split the data\n",
    "\n",
    "new_all = pd.read_csv('C:/Users/86158/Desktop/BeikaData2/all.csv')\n",
    "datasets = new_all.iloc[:, 1:]\n",
    "print(datasets)\n",
    "#feature scaling\n",
    "\n",
    "sc_X = StandardScaler()\n",
    "X_Train = sc_X.fit_transform(datasets)\n",
    "#X_Test = sc_X.transform(X_Test)"
   ]
  },
  {
   "cell_type": "code",
   "execution_count": 7,
   "id": "e8328399",
   "metadata": {},
   "outputs": [
    {
     "name": "stdout",
     "output_type": "stream",
     "text": [
      "[0.17000981 0.07521454 0.05745208 0.0535213  0.04979384 0.04846271\n",
      " 0.04042731 0.03692142 0.03262592 0.02806434 0.02636861 0.02482096\n",
      " 0.02432908 0.02236669 0.02132087 0.01957881 0.01895151 0.01824224]\n",
      "0.7684720429536904\n"
     ]
    }
   ],
   "source": [
    "#conduct the PCA analysis:\n",
    "pca = PCA(n_components = 18)\n",
    "X_Train = pca.fit_transform(X_Train)\n",
    "print(pca.explained_variance_ratio_)\n",
    "print(sum(pca.explained_variance_ratio_))\n"
   ]
  },
  {
   "cell_type": "code",
   "execution_count": 8,
   "id": "9bdef459",
   "metadata": {},
   "outputs": [
    {
     "data": {
      "image/png": "[encoded data removed]",
      "text/plain": [
       "<Figure size 432x288 with 1 Axes>"
      ]
     },
     "metadata": {
      "needs_background": "light"
     },
     "output_type": "display_data"
    }
   ],
   "source": [
    "#additional task:once the PCA is conducted apply any clusterting techniques to find regimes:\n",
    "\n",
    "scores = []\n",
    "for k in range(2, 10):\n",
    "    estimator = KMeans(n_clusters=k)\n",
    "    estimator.fit(X_Train)\n",
    "    scores.append(silhouette_score(X_Train, estimator.labels_, metric='euclidean'))\n",
    "x = range(2, 10)\n",
    "plt.xlabel('k')\n",
    "plt.ylabel('Silhouette Coefficient')\n",
    "plt.plot(x, scores, '*-')\n",
    "plt.show()"
   ]
  },
  {
   "cell_type": "code",
   "execution_count": 9,
   "id": "c8d90277",
   "metadata": {},
   "outputs": [
    {
     "data": {
      "image/png": "[encoded data removed]",
      "text/plain": [
       "<Figure size 432x288 with 1 Axes>"
      ]
     },
     "metadata": {
      "needs_background": "light"
     },
     "output_type": "display_data"
    }
   ],
   "source": [
    "sse = []\n",
    "for k in range(1, 9):\n",
    "    estimator = KMeans(n_clusters=k)\n",
    "    estimator.fit(X_Train)\n",
    "    sse.append(estimator.inertia_)\n",
    "x = range(1, 9)\n",
    "plt.xlabel('k')\n",
    "plt.ylabel('SSE')\n",
    "plt.plot(x, sse, '*-')\n",
    "plt.show()"
   ]
  },
  {
   "cell_type": "code",
   "execution_count": 10,
   "id": "711bf2ee",
   "metadata": {},
   "outputs": [
    {
     "name": "stdout",
     "output_type": "stream",
     "text": [
      "            DATE       PC1       PC2       PC3       PC4       PC5       PC6  \\\n",
      "0     2003-01-03 -0.380040  0.204377 -0.855813 -0.502637  1.439694  0.514446   \n",
      "1     2003-01-04 -0.366012  0.339790 -0.760247 -0.440104  1.464210  0.259474   \n",
      "2     2003-01-05 -0.346121  0.507569 -0.669145 -0.361948  1.522257  0.054197   \n",
      "3     2003-01-06 -0.292418  0.630066 -0.521923 -0.313052  1.620417 -0.174028   \n",
      "4     2003-01-07 -0.247739 -1.111474 -0.318896 -0.318775  1.288423  0.708629   \n",
      "...          ...       ...       ...       ...       ...       ...       ...   \n",
      "6189  2019-12-14  0.004399 -0.855080  1.721314  0.864783 -0.338640  0.809952   \n",
      "6190  2019-12-15 -0.013315  0.485436  1.665266  1.000430 -0.225231 -0.669267   \n",
      "6191  2019-12-16  0.024731  1.785735  1.697190  1.109614 -0.084214 -2.132826   \n",
      "6192  2019-12-17 -0.016633  0.185081  1.696323  1.135841 -0.498246 -0.195845   \n",
      "6193  2019-12-18 -0.040061  0.486733  1.648654  1.170429 -0.470810 -1.520698   \n",
      "\n",
      "           PC7       PC8       PC9      PC10      PC11      PC12      PC13  \\\n",
      "0    -0.487537 -1.578258  1.017892 -0.801033  1.294686 -1.114794 -0.482451   \n",
      "1    -0.367162 -1.288094  0.959116 -0.919463  1.518597 -0.927377  0.076396   \n",
      "2    -0.253173 -1.021163  0.929226 -0.991055  1.767181 -1.189376  0.292270   \n",
      "3    -0.199335 -0.747561  0.925303 -0.919665  1.721193 -0.957016  0.590293   \n",
      "4     0.045318  1.296614  1.024132 -1.143356  1.350555 -1.868834  0.198909   \n",
      "...        ...       ...       ...       ...       ...       ...       ...   \n",
      "6189 -0.423358 -1.010667 -0.997767 -0.932022 -0.101968 -0.388255 -0.085013   \n",
      "6190 -0.246913 -0.783043 -1.136942 -1.055742  0.174105 -0.660511 -0.176553   \n",
      "6191 -0.174937 -0.569582 -1.292751 -0.810536  0.028665 -0.747713 -0.349704   \n",
      "6192 -0.282226 -0.383644 -1.261968 -0.913191 -0.190506 -0.998730 -0.337703   \n",
      "6193 -0.269792 -0.106553 -1.421532 -0.501496 -0.162598 -0.916203 -0.196643   \n",
      "\n",
      "          PC14      PC15      PC16      PC17      PC18  Cluster  \n",
      "0    -0.579661 -1.612989  0.126413  0.179088  0.581291        0  \n",
      "1     0.402434 -1.497822  0.303563 -0.080976  0.835736        0  \n",
      "2     0.417352 -1.531421  0.347383 -0.225213  1.011812        0  \n",
      "3     1.040472 -1.517850  0.466498 -0.413378  1.227507        0  \n",
      "4     0.594014 -1.363369 -0.002544 -0.204610  1.384108        0  \n",
      "...        ...       ...       ...       ...       ...      ...  \n",
      "6189 -0.121547 -0.042255  0.912515 -0.253434 -0.174962        1  \n",
      "6190 -0.139182 -0.075273  0.935290 -0.304342  0.004217        1  \n",
      "6191 -0.076255 -0.335148  0.867907 -0.263451  0.103890        1  \n",
      "6192  0.119914 -0.254025  0.672207 -0.271925 -0.089294        1  \n",
      "6193 -0.058855 -0.528951  0.647758 -0.200679  0.048028        1  \n",
      "\n",
      "[6194 rows x 20 columns]\n"
     ]
    }
   ],
   "source": [
    "#fit a K-means model\n",
    "\n",
    "kmeans = KMeans(n_clusters = 5)\n",
    "kmeans.fit(X_Train)\n",
    "\n",
    "datetime = new_all['Date']\n",
    "\n",
    "X_Train = pd.DataFrame(X_Train.reshape(6194, 18))\n",
    "\n",
    "res = kmeans.labels_\n",
    "res_seri = pd.Series(res)\n",
    "\n",
    "new_all = pd.concat([datetime, X_Train, res_seri], axis = 1)\n",
    "new_all.columns = ['DATE', 'PC1', 'PC2', 'PC3', 'PC4', 'PC5','PC6',\n",
    "                    'PC7','PC8','PC9','PC10','PC11','PC12','PC13','PC14','PC15',\n",
    "                    'PC16','PC17','PC18',\n",
    "                    'Cluster']\n",
    "print(new_all)"
   ]
  },
  {
   "cell_type": "code",
   "execution_count": 11,
   "id": "c823c060",
   "metadata": {},
   "outputs": [
    {
     "name": "stdout",
     "output_type": "stream",
     "text": [
      "0       0\n",
      "1       0\n",
      "2       0\n",
      "3       0\n",
      "4       0\n",
      "       ..\n",
      "6189    1\n",
      "6190    1\n",
      "6191    1\n",
      "6192    1\n",
      "6193    1\n",
      "Name: Cluster, Length: 6194, dtype: int32\n",
      "0       2003-01-03\n",
      "1       2003-01-04\n",
      "2       2003-01-05\n",
      "3       2003-01-06\n",
      "4       2003-01-07\n",
      "           ...    \n",
      "6189    2019-12-14\n",
      "6190    2019-12-15\n",
      "6191    2019-12-16\n",
      "6192    2019-12-17\n",
      "6193    2019-12-18\n",
      "Name: DATE, Length: 6194, dtype: object\n"
     ]
    },
    {
     "data": {
      "image/png": "[encoded data removed]",
      "text/plain": [
       "<Figure size 432x288 with 8 Axes>"
      ]
     },
     "metadata": {
      "needs_background": "light"
     },
     "output_type": "display_data"
    }
   ],
   "source": [
    "import matplotlib.ticker as mticker\n",
    "\n",
    "fig, axs = plt.subplots(4, 1, sharex=True, sharey=True)\n",
    "\n",
    "cmap = plt.get_cmap('Set1')\n",
    "norm = BoundaryNorm([0, 1, 2, 3, 4, 5], cmap.N)\n",
    "x = np.array(range(6194))\n",
    "cluster = new_all['Cluster']\n",
    "print(cluster)\n",
    "data = new_all['DATE']\n",
    "print(data)\n",
    "for i in range(4):\n",
    "    \n",
    "    y = new_all['PC'+str(i+1)]\n",
    "\n",
    "    points = np.array([x, y]).T.reshape(-1, 1, 2)\n",
    "    segments = np.concatenate([points[:-1], points[1:]], axis=1)\n",
    "\n",
    "    lc = LineCollection(segments, cmap=cmap, norm=norm)\n",
    "    lc.set_array(cluster)\n",
    "    lc.set_linewidth(2)\n",
    "    line = axs[i].add_collection(lc)\n",
    "    fig.colorbar(line, ax=axs[i])\n",
    "\n",
    "\n",
    "xlabels = axs[0].get_xticks().tolist()\n",
    "axs[0].xaxis.set_major_locator(mticker.FixedLocator(xlabels))\n",
    "axs[0].xaxis.set_ticks(range(0,6194,1500))\n",
    "axs[0].xaxis.set_ticklabels(new_all['DATE'][0:6194:1500])\n",
    "axs[0].set_xlim(x.min(), x.max())\n",
    "axs[0].set_ylim(-6, 6)\n",
    "\n",
    "plt.show()"
   ]
  },
  {
   "cell_type": "code",
   "execution_count": 12,
   "id": "c5bd8da4",
   "metadata": {},
   "outputs": [
    {
     "name": "stdout",
     "output_type": "stream",
     "text": [
      "           PC1       PC2       PC3       PC4       PC5       PC6       PC7  \\\n",
      "0    -0.380040  0.204377 -0.855813 -0.502637  1.439694  0.514446 -0.487537   \n",
      "1    -0.366012  0.339790 -0.760247 -0.440104  1.464210  0.259474 -0.367162   \n",
      "2    -0.346121  0.507569 -0.669145 -0.361948  1.522257  0.054197 -0.253173   \n",
      "3    -0.292418  0.630066 -0.521923 -0.313052  1.620417 -0.174028 -0.199335   \n",
      "4    -0.247739 -1.111474 -0.318896 -0.318775  1.288423  0.708629  0.045318   \n",
      "...        ...       ...       ...       ...       ...       ...       ...   \n",
      "6189  0.004399 -0.855080  1.721314  0.864783 -0.338640  0.809952 -0.423358   \n",
      "6190 -0.013315  0.485436  1.665266  1.000430 -0.225231 -0.669267 -0.246913   \n",
      "6191  0.024731  1.785735  1.697190  1.109614 -0.084214 -2.132826 -0.174937   \n",
      "6192 -0.016633  0.185081  1.696323  1.135841 -0.498246 -0.195845 -0.282226   \n",
      "6193 -0.040061  0.486733  1.648654  1.170429 -0.470810 -1.520698 -0.269792   \n",
      "\n",
      "           PC8       PC9      PC10      PC11      PC12      PC13      PC14  \\\n",
      "0    -1.578258  1.017892 -0.801033  1.294686 -1.114794 -0.482451 -0.579661   \n",
      "1    -1.288094  0.959116 -0.919463  1.518597 -0.927377  0.076396  0.402434   \n",
      "2    -1.021163  0.929226 -0.991055  1.767181 -1.189376  0.292270  0.417352   \n",
      "3    -0.747561  0.925303 -0.919665  1.721193 -0.957016  0.590293  1.040472   \n",
      "4     1.296614  1.024132 -1.143356  1.350555 -1.868834  0.198909  0.594014   \n",
      "...        ...       ...       ...       ...       ...       ...       ...   \n",
      "6189 -1.010667 -0.997767 -0.932022 -0.101968 -0.388255 -0.085013 -0.121547   \n",
      "6190 -0.783043 -1.136942 -1.055742  0.174105 -0.660511 -0.176553 -0.139182   \n",
      "6191 -0.569582 -1.292751 -0.810536  0.028665 -0.747713 -0.349704 -0.076255   \n",
      "6192 -0.383644 -1.261968 -0.913191 -0.190506 -0.998730 -0.337703  0.119914   \n",
      "6193 -0.106553 -1.421532 -0.501496 -0.162598 -0.916203 -0.196643 -0.058855   \n",
      "\n",
      "          PC15      PC16      PC17      PC18  \n",
      "0    -1.612989  0.126413  0.179088  0.581291  \n",
      "1    -1.497822  0.303563 -0.080976  0.835736  \n",
      "2    -1.531421  0.347383 -0.225213  1.011812  \n",
      "3    -1.517850  0.466498 -0.413378  1.227507  \n",
      "4    -1.363369 -0.002544 -0.204610  1.384108  \n",
      "...        ...       ...       ...       ...  \n",
      "6189 -0.042255  0.912515 -0.253434 -0.174962  \n",
      "6190 -0.075273  0.935290 -0.304342  0.004217  \n",
      "6191 -0.335148  0.867907 -0.263451  0.103890  \n",
      "6192 -0.254025  0.672207 -0.271925 -0.089294  \n",
      "6193 -0.528951  0.647758 -0.200679  0.048028  \n",
      "\n",
      "[6194 rows x 18 columns]\n"
     ]
    }
   ],
   "source": [
    "#conduct Decision trees and Naive bayes methods:\n",
    "\n",
    "#Divide the training set and the test set\n",
    "#The date is removed\n",
    "from sklearn.model_selection import train_test_split\n",
    "X = new_all.iloc[:,1:-1]\n",
    "y = cluster\n",
    "Xtrain,Xtest,Ytrain,Ytest = train_test_split(X,y,test_size=0.3,random_state=420)\n",
    "print(X)\n"
   ]
  },
  {
   "cell_type": "code",
   "execution_count": 23,
   "id": "c1ce0319",
   "metadata": {},
   "outputs": [
    {
     "name": "stdout",
     "output_type": "stream",
     "text": [
      "The naive_bayes classification result is： [0 2 1 ... 3 0 1]\n",
      "training score set is: 0.964\n",
      "test score set is: 0.961\n"
     ]
    }
   ],
   "source": [
    "#visualize the classification observed on the s&p data for better understanding on the performance of the model:\n",
    "#Classification is carried out using Gaussian NB\n",
    "from sklearn.naive_bayes import GaussianNB\n",
    "clf = GaussianNB()\n",
    "clf.fit(Xtrain,Ytrain)\n",
    "print(\"The naive_bayes classification result is：\",clf.predict(Xtest))\n",
    "print(\"training score set is: {:.3f}\".format(clf.score(Xtrain, Ytrain)))\n",
    "print(\"test score set is: {:.3f}\".format(clf.score(Xtest, Ytest)))\n",
    "\n",
    "\n"
   ]
  },
  {
   "cell_type": "code",
   "execution_count": 24,
   "id": "9d656020",
   "metadata": {},
   "outputs": [
    {
     "name": "stdout",
     "output_type": "stream",
     "text": [
      "The LDA classification result is： [0 1 1 ... 3 0 1]\n",
      "training score set is: 0.989\n",
      "test score set is: 0.989\n"
     ]
    }
   ],
   "source": [
    "#use LDA to classify\n",
    "from sklearn.discriminant_analysis import LinearDiscriminantAnalysis\n",
    "\n",
    "clf2 = LinearDiscriminantAnalysis()\n",
    "clf2.fit(Xtrain,Ytrain)\n",
    "print(\"The LDA classification result is：\",clf2.predict(Xtest))\n",
    "print(\"training score set is: {:.3f}\".format(clf2.score(Xtrain, Ytrain)))\n",
    "print(\"test score set is: {:.3f}\".format(clf2.score(Xtest, Ytest)))"
   ]
  },
  {
   "cell_type": "code",
   "execution_count": 28,
   "id": "edbefd26",
   "metadata": {},
   "outputs": [
    {
     "name": "stdout",
     "output_type": "stream",
     "text": [
      "The DecisionTree classification result is： [0 1 1 ... 3 0 1]\n",
      "training score set is: 1.000\n",
      "test score set is: 0.986\n"
     ]
    }
   ],
   "source": [
    "#use DecisionTree to classify\n",
    "from sklearn.tree import DecisionTreeClassifier as DTC\n",
    "\n",
    "clf3 = DTC()\n",
    "clf3.fit(Xtrain,Ytrain)\n",
    "print(\"The DecisionTree classification result is：\",clf3.predict(Xtest))\n",
    "print(\"training score set is: {:.3f}\".format(clf3.score(Xtrain, Ytrain)))\n",
    "print(\"test score set is: {:.3f}\".format(clf3.score(Xtest, Ytest)))"
   ]
  },
  {
   "cell_type": "code",
   "execution_count": 30,
   "id": "5d016bae",
   "metadata": {},
   "outputs": [
    {
     "name": "stdout",
     "output_type": "stream",
     "text": [
      "The RandomForest classification result is： [0 1 1 ... 3 0 1]\n",
      "training score set is: 1.000\n",
      "test score set is: 0.997\n"
     ]
    }
   ],
   "source": [
    "#use DecisionTree to classify\n",
    "from sklearn.ensemble import RandomForestClassifier as RFC\n",
    "clf4 = RFC()\n",
    "clf4.fit(Xtrain,Ytrain)\n",
    "print(\"The RandomForest classification result is：\",clf4.predict(Xtest))\n",
    "print(\"training score set is: {:.3f}\".format(clf4.score(Xtrain, Ytrain)))\n",
    "print(\"test score set is: {:.3f}\".format(clf4.score(Xtest, Ytest)))"
   ]
  },
  {
   "cell_type": "code",
   "execution_count": 15,
   "id": "ae9da952",
   "metadata": {},
   "outputs": [
    {
     "name": "stdout",
     "output_type": "stream",
     "text": [
      "              precision    recall  f1-score   support\n",
      "\n",
      "           0       0.98      0.95      0.96       600\n",
      "           1       0.99      0.97      0.98       969\n",
      "           2       0.73      0.92      0.81        89\n",
      "           3       0.92      0.97      0.94       201\n",
      "\n",
      "    accuracy                           0.96      1859\n",
      "   macro avg       0.90      0.95      0.92      1859\n",
      "weighted avg       0.97      0.96      0.96      1859\n",
      "\n",
      "-------------------------\n"
     ]
    }
   ],
   "source": [
    "#Generate text-based classification reports\n",
    "from sklearn.metrics import classification_report\n",
    "print(classification_report(Ytest, clf.predict(Xtest)))\n",
    "print(\"-------------------------\")"
   ]
  },
  {
   "cell_type": "code",
   "execution_count": 16,
   "id": "f81c4358",
   "metadata": {},
   "outputs": [],
   "source": [
    "from sklearn.model_selection import learning_curve\n",
    "#Defines the function that draws the GaussianNB learning curve\n",
    "def plot_learning_curve(estimator,title, X, y,\n",
    "                        ax, \n",
    "                        ylim=None, \n",
    "                        cv=None, \n",
    "                        n_jobs=None \n",
    "                        ):\n",
    "    train_sizes, train_scores, test_scores = learning_curve(estimator, X, y,cv=cv,n_jobs=n_jobs)\n",
    "    ax.set_title(title)\n",
    "    if ylim is not None:\n",
    "        ax.set_ylim(*ylim)\n",
    "    ax.set_xlabel(\"Training examples\")\n",
    "    ax.set_ylabel(\"Score\")\n",
    "    ax.grid() #show backgroud\n",
    "    ax.plot(train_sizes, np.mean(train_scores, axis=1), 'o-'\n",
    "            , color=\"r\",label=\"Training score\")\n",
    "    ax.plot(train_sizes, np.mean(test_scores, axis=1), 'o-'\n",
    "            , color=\"g\",label=\"Test score\")\n",
    "    ax.legend(loc=\"best\")\n",
    "    return ax\n"
   ]
  },
  {
   "cell_type": "code",
   "execution_count": 17,
   "id": "5fb1c030",
   "metadata": {},
   "outputs": [
    {
     "name": "stderr",
     "output_type": "stream",
     "text": [
      "C:\\Users\\86158\\.conda\\envs\\pytorch\\lib\\site-packages\\sklearn\\model_selection\\_split.py:676: UserWarning: The least populated class in y has only 4 members, which is less than n_splits=5.\n",
      "  warnings.warn(\n"
     ]
    },
    {
     "data": {
      "image/png": "[encoded data removed]",
      "text/plain": [
       "<Figure size 432x288 with 1 Axes>"
      ]
     },
     "metadata": {
      "needs_background": "light"
     },
     "output_type": "display_data"
    }
   ],
   "source": [
    "#Analysis plot of GaussianNB learning curve with sample size\n",
    "estimator = GaussianNB()\n",
    "plt.figure()\n",
    "plot_learning_curve(estimator, \"Naive Bayes\", X, y,\n",
    "                        ax=plt.gca(), ylim = [0.2, 1.05],n_jobs=4, cv=5);\n"
   ]
  },
  {
   "cell_type": "code",
   "execution_count": 18,
   "metadata": {},
   "outputs": [
    {
     "name": "stdout",
     "output_type": "stream",
     "text": [
      "(6194, 18)\n",
      "           PC1       PC2       PC3       PC4       PC5       PC6       PC7  \\\n",
      "0    -0.380040  0.204377 -0.855813 -0.502637  1.439694  0.514446 -0.487537   \n",
      "1    -0.366012  0.339790 -0.760247 -0.440104  1.464210  0.259474 -0.367162   \n",
      "2    -0.346121  0.507569 -0.669145 -0.361948  1.522257  0.054197 -0.253173   \n",
      "3    -0.292418  0.630066 -0.521923 -0.313052  1.620417 -0.174028 -0.199335   \n",
      "4    -0.247739 -1.111474 -0.318896 -0.318775  1.288423  0.708629  0.045318   \n",
      "...        ...       ...       ...       ...       ...       ...       ...   \n",
      "6189  0.004399 -0.855080  1.721314  0.864783 -0.338640  0.809952 -0.423358   \n",
      "6190 -0.013315  0.485436  1.665266  1.000430 -0.225231 -0.669267 -0.246913   \n",
      "6191  0.024731  1.785735  1.697190  1.109614 -0.084214 -2.132826 -0.174937   \n",
      "6192 -0.016633  0.185081  1.696323  1.135841 -0.498246 -0.195845 -0.282226   \n",
      "6193 -0.040061  0.486733  1.648654  1.170429 -0.470810 -1.520698 -0.269792   \n",
      "\n",
      "           PC8       PC9      PC10      PC11      PC12      PC13      PC14  \\\n",
      "0    -1.578258  1.017892 -0.801033  1.294686 -1.114794 -0.482451 -0.579661   \n",
      "1    -1.288094  0.959116 -0.919463  1.518597 -0.927377  0.076396  0.402434   \n",
      "2    -1.021163  0.929226 -0.991055  1.767181 -1.189376  0.292270  0.417352   \n",
      "3    -0.747561  0.925303 -0.919665  1.721193 -0.957016  0.590293  1.040472   \n",
      "4     1.296614  1.024132 -1.143356  1.350555 -1.868834  0.198909  0.594014   \n",
      "...        ...       ...       ...       ...       ...       ...       ...   \n",
      "6189 -1.010667 -0.997767 -0.932022 -0.101968 -0.388255 -0.085013 -0.121547   \n",
      "6190 -0.783043 -1.136942 -1.055742  0.174105 -0.660511 -0.176553 -0.139182   \n",
      "6191 -0.569582 -1.292751 -0.810536  0.028665 -0.747713 -0.349704 -0.076255   \n",
      "6192 -0.383644 -1.261968 -0.913191 -0.190506 -0.998730 -0.337703  0.119914   \n",
      "6193 -0.106553 -1.421532 -0.501496 -0.162598 -0.916203 -0.196643 -0.058855   \n",
      "\n",
      "          PC15      PC16      PC17      PC18  \n",
      "0    -1.612989  0.126413  0.179088  0.581291  \n",
      "1    -1.497822  0.303563 -0.080976  0.835736  \n",
      "2    -1.531421  0.347383 -0.225213  1.011812  \n",
      "3    -1.517850  0.466498 -0.413378  1.227507  \n",
      "4    -1.363369 -0.002544 -0.204610  1.384108  \n",
      "...        ...       ...       ...       ...  \n",
      "6189 -0.042255  0.912515 -0.253434 -0.174962  \n",
      "6190 -0.075273  0.935290 -0.304342  0.004217  \n",
      "6191 -0.335148  0.867907 -0.263451  0.103890  \n",
      "6192 -0.254025  0.672207 -0.271925 -0.089294  \n",
      "6193 -0.528951  0.647758 -0.200679  0.048028  \n",
      "\n",
      "[6194 rows x 18 columns]\n"
     ]
    }
   ],
   "source": [
    "from sklearn.ensemble import RandomForestClassifier as RFC\n",
    "from sklearn.tree import DecisionTreeClassifier as DTC\n",
    "from sklearn.svm import SVC\n",
    "from sklearn.linear_model import LogisticRegression as LR\n",
    "from sklearn.model_selection import ShuffleSplit\n",
    "print(X.shape)\n",
    "print(X)\n",
    "title = [\"Naive Bayes\",\"DecisionTree\",\"SVM, RBFkernel\",\"RandomForest\",\"Logistic Regression\"]\n",
    "model = [GaussianNB(),DTC(),SVC(gamma=0.001)\n",
    "         ,RFC(n_estimators=50),LR(C=.1,solver=\"lbfgs\")]\n",
    "cv = ShuffleSplit(n_splits=50, test_size=0.3, random_state=0)"
   ]
  },
  {
   "cell_type": "code",
   "execution_count": 19,
   "id": "2f602ecd",
   "metadata": {},
   "outputs": [
    {
     "name": "stdout",
     "output_type": "stream",
     "text": [
      "Naive Bayes:00:01:086003\n",
      "DecisionTree:00:02:235371\n",
      "SVM, RBFkernel:00:33:595522\n",
      "RandomForest:00:22:167096\n",
      "Logistic Regression:00:10:016230\n"
     ]
    },
    {
     "data": {
      "image/png": "[encoded data removed]",
      "text/plain": [
       "<Figure size 2160x432 with 5 Axes>"
      ]
     },
     "metadata": {
      "needs_background": "light"
     },
     "output_type": "display_data"
    }
   ],
   "source": [
    "#Enter the loop and draw learning curve of different models\n",
    "from time import time\n",
    "import datetime\n",
    "fig, axes = plt.subplots(1,5,figsize=(30,6))\n",
    "for ind,title_,estimator in zip(range(len(title)),title,model):\n",
    "    times = time()\n",
    "    plot_learning_curve(estimator, title_, X, y,\n",
    "                        ax=axes[ind], ylim = [0.92, 1.02],n_jobs=4, cv=cv)\n",
    "    print(\"{}:{}\".format(title_,datetime.datetime.fromtimestamp(time()-\n",
    "    times).strftime(\"%M:%S:%f\")))\n",
    "plt.show()"
   ]
  }
 ],
 "metadata": {
  "kernelspec": {
   "display_name": "Python 3",
   "language": "python",
   "name": "python3"
  },
  "language_info": {
   "codemirror_mode": {
    "name": "ipython",
    "version": 3
   },
   "file_extension": ".py",
   "mimetype": "text/x-python",
   "name": "python",
   "nbconvert_exporter": "python",
   "pygments_lexer": "ipython3",
   "version": "3.9.7"
  }
 },
 "nbformat": 4,
 "nbformat_minor": 5
}
